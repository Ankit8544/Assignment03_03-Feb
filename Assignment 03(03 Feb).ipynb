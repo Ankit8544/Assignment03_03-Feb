{
 "cells": [
  {
   "cell_type": "markdown",
   "id": "0e77e8b6-1ac3-4ea0-94ca-9a5863903bc5",
   "metadata": {},
   "source": [
    "Q.No-01    Which keyword is used to create a function? Create a function to return a list of odd numbers in the\n",
    "range of 1 to 25."
   ]
  },
  {
   "cell_type": "markdown",
   "id": "b7814514-5773-459b-bb4e-66fc75c877f5",
   "metadata": {},
   "source": [
    "Ans:"
   ]
  },
  {
   "cell_type": "markdown",
   "id": "50fa6868-bfb2-43ef-ba5a-bc4e4cf4e63e",
   "metadata": {},
   "source": [
    "The def keyword is used to create, (or define) a function."
   ]
  },
  {
   "cell_type": "code",
   "execution_count": 11,
   "id": "c3eb1c45-42ff-44d6-b335-2d0723205beb",
   "metadata": {},
   "outputs": [],
   "source": [
    "def Odd():\n",
    "    Odd_No = []\n",
    "    for i in range(1,26):\n",
    "        if i % 2 != 0:\n",
    "            Odd_No.append(i)\n",
    "    return Odd_No"
   ]
  },
  {
   "cell_type": "code",
   "execution_count": 15,
   "id": "38f53566-13bc-42f9-b00d-1964134cab16",
   "metadata": {},
   "outputs": [],
   "source": [
    "Result = Odd()"
   ]
  },
  {
   "cell_type": "code",
   "execution_count": 16,
   "id": "22b88b2b-a44d-4172-87c3-05b80d6a01b9",
   "metadata": {},
   "outputs": [
    {
     "name": "stdout",
     "output_type": "stream",
     "text": [
      "[1, 3, 5, 7, 9, 11, 13, 15, 17, 19, 21, 23, 25]\n"
     ]
    }
   ],
   "source": [
    "print(Result)"
   ]
  },
  {
   "cell_type": "markdown",
   "id": "c913db94-a24b-4373-b74b-94ceb49701d8",
   "metadata": {},
   "source": [
    "xxxxxxxxxxxxxxxxxxxxxxxxxxxxxxxxxxxxxxxxxxxxxxxxxxxxxxxxxxxxxxxxxxxxxxxxxxxxxxxxxxxxxxxxxxxxxxxxxxxxxxxxxxxxxxxxxxxxxxxxxxxxxxxx"
   ]
  },
  {
   "cell_type": "markdown",
   "id": "c1331e29-382c-4881-bd7c-97f0c9b343f0",
   "metadata": {},
   "source": [
    "Q.No-02    Why *args and **kwargs is used in some functions? Create a function each for *args and **kwargs\n",
    "to demonstrate their use."
   ]
  },
  {
   "cell_type": "markdown",
   "id": "8d0f45c3-3785-422c-8080-e3e504796aa0",
   "metadata": {},
   "source": [
    "Ans:"
   ]
  },
  {
   "cell_type": "markdown",
   "id": "f3857b59-b892-4b24-a16e-2dbdc7519138",
   "metadata": {},
   "source": [
    "*args allow us to pass a n number of non-keyword arguments from the function ard all the arguments are stored in it, in the form of tuple.\n",
    "args is not a keyword it is just a convention we can write any thing in place of args after _ * _ ."
   ]
  },
  {
   "cell_type": "code",
   "execution_count": 24,
   "id": "ecbd5e5b-0169-4cfc-b9de-7d287d0a6c21",
   "metadata": {},
   "outputs": [],
   "source": [
    "def Args(*args):\n",
    "    return(args)"
   ]
  },
  {
   "cell_type": "code",
   "execution_count": 22,
   "id": "d3fa3c59-c89a-4b7d-9156-26ec7f044f0f",
   "metadata": {},
   "outputs": [
    {
     "data": {
      "text/plain": [
       "tuple"
      ]
     },
     "execution_count": 22,
     "metadata": {},
     "output_type": "execute_result"
    }
   ],
   "source": [
    "type(Args())"
   ]
  },
  {
   "cell_type": "code",
   "execution_count": 23,
   "id": "56f95d58-0201-4790-a72f-28e3f6bc7cb6",
   "metadata": {},
   "outputs": [
    {
     "data": {
      "text/plain": [
       "(12,\n",
       " 34,\n",
       " 56,\n",
       " 78,\n",
       " 90,\n",
       " 'Ankit',\n",
       " 'Kumar',\n",
       " 12.34,\n",
       " 56.78,\n",
       " 90j,\n",
       " ['a', 'b', 'c'],\n",
       " ('a', 'b', 'c'))"
      ]
     },
     "execution_count": 23,
     "metadata": {},
     "output_type": "execute_result"
    }
   ],
   "source": [
    "Args(12,34,56,78,90,'Ankit','Kumar',12.34,56.78,90j,['a','b','c'],('a','b','c'))"
   ]
  },
  {
   "cell_type": "markdown",
   "id": "1124b0bf-054c-4584-9103-8d7324b7ada7",
   "metadata": {},
   "source": [
    "**kwargs allows us to pass a n number of keyword arguments from the function ard all the arguments are in the Dictionary form. **kwargs's arguments is in the pair of key and value."
   ]
  },
  {
   "cell_type": "code",
   "execution_count": 38,
   "id": "402daf28-4d60-4142-a856-628d8c462ae2",
   "metadata": {},
   "outputs": [],
   "source": [
    "def Kwargs(**kwargs):\n",
    "    return kwargs"
   ]
  },
  {
   "cell_type": "code",
   "execution_count": 40,
   "id": "dcfb67ae-723f-4c81-89c7-71cd26872f68",
   "metadata": {},
   "outputs": [
    {
     "data": {
      "text/plain": [
       "dict"
      ]
     },
     "execution_count": 40,
     "metadata": {},
     "output_type": "execute_result"
    }
   ],
   "source": [
    "type(Kwargs())"
   ]
  },
  {
   "cell_type": "code",
   "execution_count": 42,
   "id": "be6f24d7-f498-403c-9faa-05ceecd0b5d3",
   "metadata": {},
   "outputs": [
    {
     "data": {
      "text/plain": [
       "{'Student_id': ['S01', 'S02', 'S03', 'S04', 'S05'],\n",
       " 'Gender': ['M', 'F', 'F', 'M', 'F'],\n",
       " 'Department': ['CS', 'ECE', 'ME', 'CS', 'ME'],\n",
       " 'Sessional_perc': [45, 60, 73, 65.3, 71.9],\n",
       " 'Final_sem_marks': [680, 800, 520, 650, 780],\n",
       " 'Backlogs': ['NB', 'B', 'NB', 'NB', 'NB']}"
      ]
     },
     "execution_count": 42,
     "metadata": {},
     "output_type": "execute_result"
    }
   ],
   "source": [
    "Kwargs(Student_id = ['S01','S02','S03','S04','S05'],\n",
    "Gender = ['M','F','F','M','F'],\n",
    "Department = ['CS','ECE','ME','CS','ME'],\n",
    "Sessional_perc = [45,60,73,65.3,71.9],\n",
    "Final_sem_marks = [680,800,520,650,780],\n",
    "Backlogs = ['NB','B','NB','NB','NB'])"
   ]
  },
  {
   "cell_type": "markdown",
   "id": "6fff88c3-dcc9-46cb-89f1-42c55d7677cd",
   "metadata": {},
   "source": [
    "xxxxxxxxxxxxxxxxxxxxxxxxxxxxxxxxxxxxxxxxxxxxxxxxxxxxxxxxxxxxxxxxxxxxxxxxxxxxxxxxxxxxxxxxxxxxxxxxxxxxxxxxxxxxxxxxxxxxxxxxxxxxxxxx"
   ]
  },
  {
   "cell_type": "markdown",
   "id": "38f73e7c-4c24-4c3a-a6cb-b480cbbf4b06",
   "metadata": {},
   "source": [
    "Q.No-03    What is an iterator in python? Name the method used to initialise the iterator object and the method\n",
    "used for iteration. Use these methods to print the first five elements of the given list [2, 4, 6, 8, 10, 12, 14,\n",
    "16, 18, 20]."
   ]
  },
  {
   "cell_type": "markdown",
   "id": "53751b03-84ba-4516-a78c-a8a7582f623e",
   "metadata": {},
   "source": [
    "Ans:"
   ]
  },
  {
   "cell_type": "markdown",
   "id": "65a0953e-0c66-4b71-9b75-aa5a2fe36786",
   "metadata": {},
   "source": [
    "An iterator is an object that allows you to traverse through a collection of elements, such as a list, tuple, or dictionary. It provides a way to access the elements one by one, without the need to know the internal implementation details of the collection."
   ]
  },
  {
   "cell_type": "markdown",
   "id": "33bf95ce-c265-4fb1-9860-c81ba23b3210",
   "metadata": {},
   "source": [
    "The method used to initialize the iterator object is __ _iter_ __(), and the method used for iteration is __ _next_ __()\"."
   ]
  },
  {
   "cell_type": "code",
   "execution_count": 9,
   "id": "87ccf56d-44e9-4c4e-bdf1-f8ff1104bd2c",
   "metadata": {},
   "outputs": [
    {
     "name": "stdout",
     "output_type": "stream",
     "text": [
      "2\n",
      "4\n",
      "6\n",
      "8\n",
      "10\n"
     ]
    }
   ],
   "source": [
    "Given_List = [2, 4, 6, 8, 10, 12, 14, 16, 18, 20]\n",
    "\n",
    "my_iterator = iter(Given_List)\n",
    "\n",
    "for i in range(5):\n",
    "    element = next(my_iterator)\n",
    "    print(element)"
   ]
  },
  {
   "cell_type": "markdown",
   "id": "c3b7949c-cd98-4e17-aa11-3c929d46255b",
   "metadata": {},
   "source": [
    "xxxxxxxxxxxxxxxxxxxxxxxxxxxxxxxxxxxxxxxxxxxxxxxxxxxxxxxxxxxxxxxxxxxxxxxxxxxxxxxxxxxxxxxxxxxxxxxxxxxxxxxxxxxxxxxxxxxxxxxxxxxxxxxx"
   ]
  },
  {
   "cell_type": "markdown",
   "id": "d38d1ad0-3e74-432a-b57f-e4435cda1900",
   "metadata": {},
   "source": [
    "Q.No-04    What is a generator function in python? Why yield keyword is used? Give an example of a generator\n",
    "function."
   ]
  },
  {
   "cell_type": "markdown",
   "id": "2c3636c8-514a-4077-8989-f7a000161a87",
   "metadata": {},
   "source": [
    "Ans:"
   ]
  },
  {
   "cell_type": "markdown",
   "id": "7077a53b-0706-4870-9f4f-3d2f47877913",
   "metadata": {},
   "source": [
    "A generator function allows you to declare a function that behaves like an iterator, providing a faster and easier way to create iterators. They can be used on an abstract container of data to turn it into an iterable object like lists, dictionaries and strings."
   ]
  },
  {
   "cell_type": "markdown",
   "id": "7934cedc-ffd1-46b1-87e0-583e2c7d2aee",
   "metadata": {},
   "source": [
    "The yield keyword will convert an expression that is specified along with it to a generator object and return it to the caller."
   ]
  },
  {
   "cell_type": "code",
   "execution_count": 1,
   "id": "5dd7e9ae-65bb-45f5-92b7-9ec66a716ac3",
   "metadata": {},
   "outputs": [
    {
     "name": "stdin",
     "output_type": "stream",
     "text": [
      "Enter your n:  2\n"
     ]
    },
    {
     "name": "stdout",
     "output_type": "stream",
     "text": [
      "1\n",
      "4\n"
     ]
    }
   ],
   "source": [
    "def Sq_No(n):\n",
    "    \"\"\"Generator function to generate square numbers from 1 to n.\"\"\"\n",
    "    for i in range(1, n + 1):\n",
    "        yield i ** 2\n",
    "n = int(input(\"Enter your n: \"))\n",
    "Square_Number = Sq_No(n)\n",
    "for num in Square_Number:\n",
    "    print(num)"
   ]
  },
  {
   "cell_type": "markdown",
   "id": "29cf2c9a-74d4-4c0b-8267-a913833b17dc",
   "metadata": {},
   "source": [
    "xxxxxxxxxxxxxxxxxxxxxxxxxxxxxxxxxxxxxxxxxxxxxxxxxxxxxxxxxxxxxxxxxxxxxxxxxxxxxxxxxxxxxxxxxxxxxxxxxxxxxxxxxxxxxxxxxxxxxxxxxxxxxxxx"
   ]
  },
  {
   "cell_type": "markdown",
   "id": "c9b7277c-d999-4dc2-885e-832aa283288b",
   "metadata": {},
   "source": [
    "Q.No-05    Create a generator function for prime numbers less than 1000. Use the next() method to print the\n",
    "first 20 prime numbers."
   ]
  },
  {
   "cell_type": "markdown",
   "id": "23e03d1b-41c3-4faf-a9bc-dc76519945af",
   "metadata": {},
   "source": [
    "Ans:"
   ]
  },
  {
   "cell_type": "code",
   "execution_count": 5,
   "id": "7521b89d-32b1-4ac9-8715-b77ae5994ce7",
   "metadata": {},
   "outputs": [],
   "source": [
    "def Prime_Checker(n):\n",
    "    if n < 2:\n",
    "        return False\n",
    "    for i in range(2, int(n ** 0.5) + 1):\n",
    "        if n % i == 0:\n",
    "            return False\n",
    "    return True"
   ]
  },
  {
   "cell_type": "code",
   "execution_count": 6,
   "id": "9c93f842-3ecc-4c88-b999-bad5eb40b306",
   "metadata": {},
   "outputs": [],
   "source": [
    "def Prime_Generator():\n",
    "    num = 2\n",
    "    while True:\n",
    "        if Prime_Checker(num):\n",
    "            yield num\n",
    "        num += 1"
   ]
  },
  {
   "cell_type": "code",
   "execution_count": 7,
   "id": "ac19760b-8e4c-4b61-9ac8-85fec6eacc23",
   "metadata": {},
   "outputs": [],
   "source": [
    "Prime_Collector = Prime_Generator()"
   ]
  },
  {
   "cell_type": "code",
   "execution_count": 8,
   "id": "afb5631c-516a-454c-aabe-5fa0961eccd1",
   "metadata": {},
   "outputs": [
    {
     "name": "stdout",
     "output_type": "stream",
     "text": [
      "2\n",
      "3\n",
      "5\n",
      "7\n",
      "11\n",
      "13\n",
      "17\n",
      "19\n",
      "23\n",
      "29\n",
      "31\n",
      "37\n",
      "41\n",
      "43\n",
      "47\n",
      "53\n",
      "59\n",
      "61\n",
      "67\n",
      "71\n"
     ]
    }
   ],
   "source": [
    "for _ in range(20):\n",
    "    prime = next(Prime_Collector)\n",
    "    print(prime)"
   ]
  },
  {
   "cell_type": "markdown",
   "id": "d5ae7e1e-46ef-4314-85ae-94af8e025393",
   "metadata": {},
   "source": [
    "xxxxxxxxxxxxxxxxxxxxxxxxxxxxxxxxxxxxxxxxxxxxxxxxxxxxxxxxxxxxxxxxxxxxxxxxxxxxxxxxxxxxxxxxxxxxxxxxxxxxxxxxxxxxxxxxxxxxxxxxxxxxxxxx"
   ]
  },
  {
   "cell_type": "markdown",
   "id": "e82f8679-9fac-4992-94f9-bd49289b47b5",
   "metadata": {},
   "source": [
    "Q.No-06    Write a python program to print the first 10 Fibonacci numbers using a while loop."
   ]
  },
  {
   "cell_type": "markdown",
   "id": "1a3744fe-5ffc-4f6c-b4a1-d4a693308655",
   "metadata": {},
   "source": [
    "Ans:"
   ]
  },
  {
   "cell_type": "code",
   "execution_count": 12,
   "id": "18d68ecd-512e-4dc1-86bd-0370ba920be8",
   "metadata": {},
   "outputs": [],
   "source": [
    "a , b = 0 , 1\n",
    "count = 0"
   ]
  },
  {
   "cell_type": "code",
   "execution_count": 13,
   "id": "ea505945-c52c-421b-99e0-b32acdb11ec4",
   "metadata": {},
   "outputs": [
    {
     "name": "stdout",
     "output_type": "stream",
     "text": [
      "0\n",
      "1\n",
      "1\n",
      "2\n",
      "3\n",
      "5\n",
      "8\n",
      "13\n",
      "21\n",
      "34\n"
     ]
    }
   ],
   "source": [
    "while count < 10:\n",
    "    print(a)\n",
    "    a , b = b , a + b\n",
    "    count += 1"
   ]
  },
  {
   "cell_type": "markdown",
   "id": "ddd36397-d9b8-4fa8-96e9-5f276cdd1cc9",
   "metadata": {},
   "source": [
    "xxxxxxxxxxxxxxxxxxxxxxxxxxxxxxxxxxxxxxxxxxxxxxxxxxxxxxxxxxxxxxxxxxxxxxxxxxxxxxxxxxxxxxxxxxxxxxxxxxxxxxxxxxxxxxxxxxxxxxxxxxxxxxxx"
   ]
  },
  {
   "cell_type": "markdown",
   "id": "970a3d90-d89b-43cd-883f-d6eae856e716",
   "metadata": {},
   "source": [
    "Q.No-07    Write a List Comprehension to iterate through the given string: ‘pwskills’.\n",
    "Expected output: ['p', 'w', 's', 'k', 'i', 'l', 'l', 's'] "
   ]
  },
  {
   "cell_type": "markdown",
   "id": "3f84fe22-60f9-46b2-8655-5ee8245065e9",
   "metadata": {},
   "source": [
    "Ans:"
   ]
  },
  {
   "cell_type": "code",
   "execution_count": 2,
   "id": "0b447bd4-0b72-4921-af1c-6cf9d021cb26",
   "metadata": {},
   "outputs": [],
   "source": [
    "s = 'pwskills'"
   ]
  },
  {
   "cell_type": "code",
   "execution_count": 7,
   "id": "09f8f4b7-8aa0-4954-b9ed-c7c8d6d56986",
   "metadata": {},
   "outputs": [],
   "source": [
    "s1 = iter(s)"
   ]
  },
  {
   "cell_type": "code",
   "execution_count": 17,
   "id": "1b797dd0-a938-4502-b1c8-427c56545d5a",
   "metadata": {},
   "outputs": [
    {
     "name": "stdout",
     "output_type": "stream",
     "text": [
      "['p', 'w', 's', 'k', 'i', 'l', 'l', 's']\n"
     ]
    }
   ],
   "source": [
    "def PW(s1):\n",
    "    l = []\n",
    "    for i in s1:\n",
    "        l.append(i)\n",
    "    return l\n",
    "\n",
    "print(l)"
   ]
  },
  {
   "cell_type": "markdown",
   "id": "f15ece27-561b-499b-9f60-297d41c36938",
   "metadata": {},
   "source": [
    "xxxxxxxxxxxxxxxxxxxxxxxxxxxxxxxxxxxxxxxxxxxxxxxxxxxxxxxxxxxxxxxxxxxxxxxxxxxxxxxxxxxxxxxxxxxxxxxxxxxxxxxxxxxxxxxxxxxxxxxxxxxxxxxx"
   ]
  },
  {
   "cell_type": "markdown",
   "id": "9c5db316-660b-405d-a3af-f8e585724b81",
   "metadata": {},
   "source": [
    "Q.No-08    Write a python program to check whether a given number is Palindrome or not using a while loop."
   ]
  },
  {
   "cell_type": "markdown",
   "id": "b9760bb2-3d25-4b40-a464-93ce05c5a3ba",
   "metadata": {},
   "source": [
    "Ans:"
   ]
  },
  {
   "cell_type": "code",
   "execution_count": 4,
   "id": "35c88a97-11fe-44ef-b2ea-ccebceaadd2f",
   "metadata": {},
   "outputs": [
    {
     "name": "stdin",
     "output_type": "stream",
     "text": [
      "Enter a number:  43\n"
     ]
    },
    {
     "name": "stdout",
     "output_type": "stream",
     "text": [
      "43 is not a palindrome\n"
     ]
    }
   ],
   "source": [
    "def Palindrome(num):\n",
    "    num_str = str(num)\n",
    "    reverse_str = num_str[::-1]\n",
    "    if reverse_str == num_str:\n",
    "        return True\n",
    "    else:\n",
    "        return False\n",
    "\n",
    "num = int(input(\"Enter a number: \"))\n",
    "\n",
    "if Palindrome(num):\n",
    "    print(num, \"is a palindrome\")\n",
    "else:\n",
    "    print(num, \"is not a palindrome\")"
   ]
  },
  {
   "cell_type": "markdown",
   "id": "49d3e3a7-ea40-4444-ad6d-8b079ba7c594",
   "metadata": {},
   "source": [
    "xxxxxxxxxxxxxxxxxxxxxxxxxxxxxxxxxxxxxxxxxxxxxxxxxxxxxxxxxxxxxxxxxxxxxxxxxxxxxxxxxxxxxxxxxxxxxxxxxxxxxxxxxxxxxxxxxxxxxxxxxxxxxxxx"
   ]
  },
  {
   "cell_type": "markdown",
   "id": "4243be34-0b15-47a8-8cd2-86e490e4c4c0",
   "metadata": {},
   "source": [
    "Q.No-09    Write a code to print odd numbers from 1 to 100 using list comprehension"
   ]
  },
  {
   "cell_type": "markdown",
   "id": "9d5ed14e-145b-473f-bdaa-13cc7e3234e0",
   "metadata": {},
   "source": [
    "Ans:"
   ]
  },
  {
   "cell_type": "code",
   "execution_count": 5,
   "id": "a084571d-80f9-4eaf-b501-4c7eda7fda6d",
   "metadata": {},
   "outputs": [
    {
     "name": "stdout",
     "output_type": "stream",
     "text": [
      "Odd numbers from 1 to 100: [1, 3, 5, 7, 9, 11, 13, 15, 17, 19, 21, 23, 25, 27, 29, 31, 33, 35, 37, 39, 41, 43, 45, 47, 49, 51, 53, 55, 57, 59, 61, 63, 65, 67, 69, 71, 73, 75, 77, 79, 81, 83, 85, 87, 89, 91, 93, 95, 97, 99]\n"
     ]
    }
   ],
   "source": [
    "odd_numbers = [num for num in range(1, 101) if num % 2 != 0]\n",
    "print(\"Odd numbers from 1 to 100:\", odd_numbers)"
   ]
  },
  {
   "cell_type": "code",
   "execution_count": null,
   "id": "3c2997df-4d98-4759-bf71-9f0b522bafd1",
   "metadata": {},
   "outputs": [],
   "source": []
  }
 ],
 "metadata": {
  "kernelspec": {
   "display_name": "Python 3 (ipykernel)",
   "language": "python",
   "name": "python3"
  },
  "language_info": {
   "codemirror_mode": {
    "name": "ipython",
    "version": 3
   },
   "file_extension": ".py",
   "mimetype": "text/x-python",
   "name": "python",
   "nbconvert_exporter": "python",
   "pygments_lexer": "ipython3",
   "version": "3.10.8"
  }
 },
 "nbformat": 4,
 "nbformat_minor": 5
}
